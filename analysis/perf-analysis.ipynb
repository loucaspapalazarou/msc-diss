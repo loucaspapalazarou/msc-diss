{
 "cells": [
  {
   "cell_type": "code",
   "execution_count": null,
   "metadata": {},
   "outputs": [],
   "source": [
    "import tensorflow as tf\n",
    "import matplotlib.pyplot as plt\n",
    "from tensorboard.backend.event_processing import event_accumulator"
   ]
  },
  {
   "cell_type": "code",
   "execution_count": null,
   "metadata": {},
   "outputs": [],
   "source": [
    "def extract_scalars_from_events_file(file_path):\n",
    "    # Initialize the EventAccumulator\n",
    "    ea = event_accumulator.EventAccumulator(file_path)\n",
    "    ea.Reload()\n",
    "\n",
    "    # Get the list of all scalar tags\n",
    "    scalar_tags = ea.Tags()[\"scalars\"]\n",
    "\n",
    "    # Extract scalar data\n",
    "    data = {}\n",
    "    for tag in scalar_tags:\n",
    "        events = ea.Scalars(tag)\n",
    "        steps = [event.step for event in events]\n",
    "        values = [event.value for event in events]\n",
    "        data[tag] = (steps, values)\n",
    "\n",
    "    return data"
   ]
  },
  {
   "cell_type": "code",
   "execution_count": null,
   "metadata": {},
   "outputs": [],
   "source": [
    "# Path to your .tfevents file\n",
    "file_path = \"/work/tc064/tc064/s2567498/virtual-sensing/lightning_logs/mamba/version_5/events.out.tfevents.1722416608.r2i7n8.276037.0\"\n",
    "\n",
    "# Extract and plot the data\n",
    "scalar_data = extract_scalars_from_events_file(file_path)\n",
    "plot_scalar_data(scalar_data)"
   ]
  }
 ],
 "metadata": {
  "language_info": {
   "name": "python"
  }
 },
 "nbformat": 4,
 "nbformat_minor": 2
}
