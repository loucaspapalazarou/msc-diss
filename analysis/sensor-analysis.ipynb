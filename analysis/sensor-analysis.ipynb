{
 "cells": [
  {
   "cell_type": "code",
   "execution_count": 1,
   "metadata": {},
   "outputs": [
    {
     "name": "stderr",
     "output_type": "stream",
     "text": [
      "/mnt/BigHD_1/loucas/miniconda3/envs/diss/lib/python3.11/site-packages/tqdm/auto.py:21: TqdmWarning: IProgress not found. Please update jupyter and ipywidgets. See https://ipywidgets.readthedocs.io/en/stable/user_install.html\n",
      "  from .autonotebook import tqdm as notebook_tqdm\n"
     ]
    }
   ],
   "source": [
    "import sys\n",
    "import os\n",
    "\n",
    "# Define the path to the modules directory\n",
    "root_path = os.path.abspath(\"..\")\n",
    "\n",
    "# Add the path to the sys.path if it's not already there\n",
    "if root_path not in sys.path:\n",
    "    sys.path.append(root_path)\n",
    "\n",
    "# Import modules from the 'modules' package\n",
    "from modules.mamba import MambaModule\n",
    "from modules.rnn import RNNModule\n",
    "from modules.transformer import TransformerModule\n",
    "from dataset import FrankaDataset\n",
    "\n",
    "# Other imports\n",
    "import torch\n",
    "from torch.utils.data import DataLoader\n",
    "import matplotlib.pyplot as plt\n",
    "import numpy as np\n",
    "import glob\n",
    "from const import *\n",
    "import yaml\n",
    "import shutil\n",
    "from pathlib import Path"
   ]
  },
  {
   "cell_type": "code",
   "execution_count": 2,
   "metadata": {},
   "outputs": [],
   "source": [
    "def copy_and_modify_yaml(input_path, output_dir, work_dir):\n",
    "    \"\"\"\n",
    "    Copies a YAML file, modifies the resnet_checkpoint path, and returns the new path.\n",
    "\n",
    "    Args:\n",
    "    - input_path (str): The path to the input YAML file.\n",
    "    - output_dir (str): The directory where the new YAML file will be saved.\n",
    "    - work_dir (str): The new directory path to replace the resnet_checkpoint path.\n",
    "\n",
    "    Returns:\n",
    "    - str: The path to the new YAML file.\n",
    "    \"\"\"\n",
    "    # Ensure output directory exists\n",
    "    Path(output_dir).mkdir(parents=True, exist_ok=True)\n",
    "\n",
    "    # Read the input YAML file\n",
    "    with open(input_path, \"r\") as file:\n",
    "        yaml_data = yaml.safe_load(file)\n",
    "\n",
    "    # Modify the resnet_checkpoint path\n",
    "    if \"resnet_checkpoint\" in yaml_data:\n",
    "        old_checkpoint_path = yaml_data[\"resnet_checkpoint\"]\n",
    "        filename = Path(old_checkpoint_path).name\n",
    "        new_checkpoint_path = Path(work_dir) / filename\n",
    "        yaml_data[\"resnet_checkpoint\"] = str(new_checkpoint_path)\n",
    "\n",
    "    # Create the new file path\n",
    "    input_filename = Path(input_path).name\n",
    "    new_filename = f\"temp_{input_filename}\"\n",
    "    new_file_path = Path(output_dir) / new_filename\n",
    "\n",
    "    # Write the modified data to the new YAML file\n",
    "    with open(new_file_path, \"w\") as file:\n",
    "        yaml.safe_dump(yaml_data, file)\n",
    "\n",
    "    return str(new_file_path)"
   ]
  },
  {
   "cell_type": "code",
   "execution_count": 3,
   "metadata": {},
   "outputs": [],
   "source": [
    "ds = FrankaDataset(data_dir=os.path.join(WORK_DIR, \"data-w-camera\"),\n",
    "                      episode_length=200,\n",
    "                      limited_gpu_memory=True,\n",
    "                      stride=1,\n",
    "                      prediction_distance=1,\n",
    "                      window_size=10\n",
    "                      )\n",
    "dl = DataLoader(ds, batch_size=1, shuffle=False)"
   ]
  },
  {
   "cell_type": "code",
   "execution_count": 4,
   "metadata": {},
   "outputs": [],
   "source": [
    "item = next(iter(dl))"
   ]
  },
  {
   "cell_type": "code",
   "execution_count": 5,
   "metadata": {},
   "outputs": [
    {
     "data": {
      "text/plain": [
       "torch.Size([1, 11, 35])"
      ]
     },
     "execution_count": 5,
     "metadata": {},
     "output_type": "execute_result"
    }
   ],
   "source": [
    "item['sensor_data'].shape"
   ]
  },
  {
   "cell_type": "code",
   "execution_count": 9,
   "metadata": {},
   "outputs": [
    {
     "name": "stderr",
     "output_type": "stream",
     "text": [
      "/mnt/BigHD_1/loucas/miniconda3/envs/diss/lib/python3.11/site-packages/lightning/pytorch/utilities/migration/utils.py:56: The loaded checkpoint was produced with Lightning v2.3.3, which is newer than your current Lightning version: v2.3.0\n"
     ]
    }
   ],
   "source": [
    "model = RNNModule.load_from_checkpoint(\n",
    "    checkpoint_path=RNN_LARGE_CHECKPOINT,\n",
    "    hparams_file=copy_and_modify_yaml(RNN_LARGE_PARAMS, WORK_DIR, WORK_DIR),\n",
    ")"
   ]
  },
  {
   "cell_type": "code",
   "execution_count": 7,
   "metadata": {},
   "outputs": [
    {
     "name": "stdout",
     "output_type": "stream",
     "text": [
      "tensor([[[ 0.0113, -0.0148]]], device='cuda:0') tensor([[ 0.0018, -0.0248]], device='cuda:0')\n",
      "tensor([[[ 0.0113, -0.0148]]], device='cuda:0') tensor([[-0.0010, -0.0134]], device='cuda:0')\n",
      "tensor([[[ 0.0113, -0.0148]]], device='cuda:0') tensor([[-0.0095, -0.0090]], device='cuda:0')\n",
      "tensor([[[ 0.0113, -0.0148]]], device='cuda:0') tensor([[-0.0096, -0.0233]], device='cuda:0')\n",
      "tensor([[[ 0.0113, -0.0148]]], device='cuda:0') tensor([[-0.0100, -0.0373]], device='cuda:0')\n",
      "tensor([[[ 0.0113, -0.0148]]], device='cuda:0') tensor([[-0.0098, -0.0489]], device='cuda:0')\n",
      "tensor([[[ 0.0113, -0.0148]]], device='cuda:0') tensor([[-0.0037, -0.1625]], device='cuda:0')\n",
      "tensor([[[ 0.0113, -0.0148]]], device='cuda:0') tensor([[-0.0006,  0.0122]], device='cuda:0')\n",
      "tensor([[[ 0.0113, -0.0148]]], device='cuda:0') tensor([[0.4520, 0.0578]], device='cuda:0')\n",
      "tensor([[[ 0.0113, -0.0148]]], device='cuda:0') tensor([[ 0.1309, -0.0677]], device='cuda:0')\n",
      "tensor([[[ 0.0113, -0.0148]]], device='cuda:0') tensor([[ 0.1073, -0.0733]], device='cuda:0')\n",
      "tensor([[[ 0.0113, -0.0148]]], device='cuda:0') tensor([[ 0.1119, -0.1147]], device='cuda:0')\n",
      "tensor([[[ 0.0113, -0.0148]]], device='cuda:0') tensor([[ 0.0757, -0.0654]], device='cuda:0')\n",
      "tensor([[[ 0.0113, -0.0148]]], device='cuda:0') tensor([[-0.0009,  0.0007]], device='cuda:0')\n",
      "tensor([[[ 0.0113, -0.0148]]], device='cuda:0') tensor([[0.0374, 0.0771]], device='cuda:0')\n",
      "tensor([[[ 0.0113, -0.0148]]], device='cuda:0') tensor([[ 0.0987, -0.0682]], device='cuda:0')\n",
      "tensor([[[ 0.0113, -0.0148]]], device='cuda:0') tensor([[-0.0031, -0.0062]], device='cuda:0')\n",
      "tensor([[[ 0.0113, -0.0148]]], device='cuda:0') tensor([[-0.0022,  0.0358]], device='cuda:0')\n",
      "tensor([[[ 0.0113, -0.0148]]], device='cuda:0') tensor([[-0.0030,  0.0299]], device='cuda:0')\n",
      "tensor([[[ 0.0113, -0.0148]]], device='cuda:0') tensor([[-0.0045,  0.0292]], device='cuda:0')\n",
      "tensor([[[ 0.0113, -0.0148]]], device='cuda:0') tensor([[-0.0061,  0.0391]], device='cuda:0')\n",
      "tensor([[[ 0.0113, -0.0148]]], device='cuda:0') tensor([[-0.0542,  0.0565]], device='cuda:0')\n",
      "tensor([[[ 0.0113, -0.0148]]], device='cuda:0') tensor([[-0.0777,  0.0711]], device='cuda:0')\n",
      "tensor([[[ 0.0113, -0.0148]]], device='cuda:0') tensor([[-0.0982,  0.0492]], device='cuda:0')\n",
      "tensor([[[ 0.0113, -0.0148]]], device='cuda:0') tensor([[-0.1129,  0.0239]], device='cuda:0')\n",
      "tensor([[[ 0.0113, -0.0148]]], device='cuda:0') tensor([[-0.1183,  0.0075]], device='cuda:0')\n",
      "tensor([[[ 0.0113, -0.0148]]], device='cuda:0') tensor([[-1.1618e-01, -7.6375e-05]], device='cuda:0')\n",
      "tensor([[[ 0.0113, -0.0148]]], device='cuda:0') tensor([[-0.0939, -0.0064]], device='cuda:0')\n",
      "tensor([[[ 0.0113, -0.0148]]], device='cuda:0') tensor([[-0.0651, -0.0080]], device='cuda:0')\n",
      "tensor([[[ 0.0113, -0.0148]]], device='cuda:0') tensor([[-0.0385, -0.0114]], device='cuda:0')\n",
      "tensor([[[ 0.0113, -0.0148]]], device='cuda:0') tensor([[-0.0152, -0.0131]], device='cuda:0')\n",
      "tensor([[[ 0.0113, -0.0148]]], device='cuda:0') tensor([[-0.0030, -0.0122]], device='cuda:0')\n",
      "tensor([[[ 0.0113, -0.0148]]], device='cuda:0') tensor([[-0.0026, -0.0074]], device='cuda:0')\n",
      "tensor([[[ 0.0113, -0.0148]]], device='cuda:0') tensor([[-0.0021,  0.0058]], device='cuda:0')\n",
      "tensor([[[ 0.0113, -0.0148]]], device='cuda:0') tensor([[-0.0017,  0.0148]], device='cuda:0')\n",
      "tensor([[[ 0.0113, -0.0148]]], device='cuda:0') tensor([[-0.0015,  0.0161]], device='cuda:0')\n",
      "tensor([[[ 0.0113, -0.0148]]], device='cuda:0') tensor([[-0.0014,  0.0131]], device='cuda:0')\n",
      "tensor([[[ 0.0113, -0.0148]]], device='cuda:0') tensor([[-0.0013,  0.0086]], device='cuda:0')\n",
      "tensor([[[ 0.0113, -0.0148]]], device='cuda:0') tensor([[-0.0012,  0.0049]], device='cuda:0')\n",
      "tensor([[[ 0.0113, -0.0148]]], device='cuda:0') tensor([[-0.0012,  0.0025]], device='cuda:0')\n",
      "tensor([[[ 0.0113, -0.0148]]], device='cuda:0') tensor([[-0.0012,  0.0012]], device='cuda:0')\n",
      "tensor([[[ 0.0113, -0.0148]]], device='cuda:0') tensor([[-0.0011,  0.0012]], device='cuda:0')\n",
      "tensor([[[ 0.0113, -0.0148]]], device='cuda:0') tensor([[-0.0011,  0.0018]], device='cuda:0')\n",
      "tensor([[[ 0.0113, -0.0148]]], device='cuda:0') tensor([[-0.0012,  0.0025]], device='cuda:0')\n",
      "tensor([[[ 0.0113, -0.0148]]], device='cuda:0') tensor([[-0.0012,  0.0021]], device='cuda:0')\n",
      "tensor([[[ 0.0113, -0.0148]]], device='cuda:0') tensor([[-0.0013,  0.0009]], device='cuda:0')\n",
      "tensor([[[ 0.0113, -0.0148]]], device='cuda:0') tensor([[-0.0015, -0.0004]], device='cuda:0')\n",
      "tensor([[[ 0.0113, -0.0148]]], device='cuda:0') tensor([[-0.0016, -0.0015]], device='cuda:0')\n",
      "tensor([[[ 0.0113, -0.0148]]], device='cuda:0') tensor([[-6.5233e-03, -1.2100e-05]], device='cuda:0')\n",
      "tensor([[[ 0.0113, -0.0148]]], device='cuda:0') tensor([[-0.1430, -0.0106]], device='cuda:0')\n",
      "tensor([[[ 0.0113, -0.0148]]], device='cuda:0') tensor([[-0.1477, -0.0021]], device='cuda:0')\n",
      "tensor([[[ 0.0113, -0.0148]]], device='cuda:0') tensor([[-0.1498,  0.0060]], device='cuda:0')\n",
      "tensor([[[ 0.0113, -0.0148]]], device='cuda:0') tensor([[-0.1518,  0.0065]], device='cuda:0')\n",
      "tensor([[[ 0.0113, -0.0148]]], device='cuda:0') tensor([[-0.1532,  0.0018]], device='cuda:0')\n",
      "tensor([[[ 0.0113, -0.0148]]], device='cuda:0') tensor([[-0.1516, -0.0018]], device='cuda:0')\n",
      "tensor([[[ 0.0113, -0.0148]]], device='cuda:0') tensor([[-0.1301, -0.0991]], device='cuda:0')\n",
      "tensor([[[ 0.0113, -0.0148]]], device='cuda:0') tensor([[-0.1045,  0.0046]], device='cuda:0')\n",
      "tensor([[[ 0.0113, -0.0148]]], device='cuda:0') tensor([[-0.0778,  0.0727]], device='cuda:0')\n",
      "tensor([[[ 0.0113, -0.0148]]], device='cuda:0') tensor([[-0.1112,  0.0557]], device='cuda:0')\n",
      "tensor([[[ 0.0113, -0.0148]]], device='cuda:0') tensor([[-0.1107, -0.0188]], device='cuda:0')\n",
      "tensor([[[ 0.0113, -0.0148]]], device='cuda:0') tensor([[-0.0999, -0.0270]], device='cuda:0')\n",
      "tensor([[[ 0.0113, -0.0148]]], device='cuda:0') tensor([[-0.0851, -0.0116]], device='cuda:0')\n",
      "tensor([[[ 0.0113, -0.0148]]], device='cuda:0') tensor([[-0.0445, -0.1128]], device='cuda:0')\n",
      "tensor([[[ 0.0113, -0.0148]]], device='cuda:0') tensor([[-0.0005,  0.1248]], device='cuda:0')\n",
      "tensor([[[ 0.0113, -0.0148]]], device='cuda:0') tensor([[0.0196, 0.0939]], device='cuda:0')\n",
      "tensor([[[ 0.0113, -0.0148]]], device='cuda:0') tensor([[-0.0433, -0.0186]], device='cuda:0')\n",
      "tensor([[[ 0.0113, -0.0148]]], device='cuda:0') tensor([[-0.0061, -0.0207]], device='cuda:0')\n",
      "tensor([[[ 0.0113, -0.0148]]], device='cuda:0') tensor([[-0.0102,  0.0544]], device='cuda:0')\n",
      "tensor([[[ 0.0113, -0.0148]]], device='cuda:0') tensor([[-0.0130,  0.0110]], device='cuda:0')\n",
      "tensor([[[ 0.0113, -0.0148]]], device='cuda:0') tensor([[-0.0138, -0.1096]], device='cuda:0')\n",
      "tensor([[[ 0.0113, -0.0148]]], device='cuda:0') tensor([[0.0049, 0.0086]], device='cuda:0')\n",
      "tensor([[[ 0.0113, -0.0148]]], device='cuda:0') tensor([[0.0003, 0.0141]], device='cuda:0')\n",
      "tensor([[[ 0.0113, -0.0148]]], device='cuda:0') tensor([[-0.0114, -0.0148]], device='cuda:0')\n",
      "tensor([[[ 0.0113, -0.0148]]], device='cuda:0') tensor([[-0.0022, -0.0365]], device='cuda:0')\n",
      "tensor([[[ 0.0113, -0.0148]]], device='cuda:0') tensor([[-0.0193,  0.0198]], device='cuda:0')\n",
      "tensor([[[ 0.0113, -0.0148]]], device='cuda:0') tensor([[-0.0236,  0.0139]], device='cuda:0')\n",
      "tensor([[[ 0.0113, -0.0148]]], device='cuda:0') tensor([[-0.0169, -0.0126]], device='cuda:0')\n",
      "tensor([[[ 0.0113, -0.0148]]], device='cuda:0') tensor([[-0.0179,  0.0169]], device='cuda:0')\n",
      "tensor([[[ 0.0113, -0.0148]]], device='cuda:0') tensor([[-0.0108,  0.0135]], device='cuda:0')\n",
      "tensor([[[ 0.0113, -0.0148]]], device='cuda:0') tensor([[-0.0177,  0.0067]], device='cuda:0')\n",
      "tensor([[[ 0.0113, -0.0148]]], device='cuda:0') tensor([[-0.0200, -0.0137]], device='cuda:0')\n",
      "tensor([[[ 0.0113, -0.0148]]], device='cuda:0') tensor([[-0.0207, -0.0106]], device='cuda:0')\n",
      "tensor([[[ 0.0113, -0.0148]]], device='cuda:0') tensor([[-0.0167, -0.0038]], device='cuda:0')\n",
      "tensor([[[ 0.0113, -0.0148]]], device='cuda:0') tensor([[-0.0243,  0.0037]], device='cuda:0')\n",
      "tensor([[[ 0.0113, -0.0148]]], device='cuda:0') tensor([[-0.0206,  0.0056]], device='cuda:0')\n",
      "tensor([[[ 0.0113, -0.0148]]], device='cuda:0') tensor([[-0.0208,  0.0043]], device='cuda:0')\n",
      "tensor([[[ 0.0113, -0.0148]]], device='cuda:0') tensor([[-0.0225,  0.0006]], device='cuda:0')\n",
      "tensor([[[ 0.0113, -0.0148]]], device='cuda:0') tensor([[-0.0251,  0.0054]], device='cuda:0')\n",
      "tensor([[[ 0.0113, -0.0148]]], device='cuda:0') tensor([[-0.0244,  0.0056]], device='cuda:0')\n",
      "tensor([[[ 0.0113, -0.0148]]], device='cuda:0') tensor([[-0.0270,  0.0014]], device='cuda:0')\n"
     ]
    },
    {
     "ename": "KeyboardInterrupt",
     "evalue": "",
     "output_type": "error",
     "traceback": [
      "\u001b[0;31m---------------------------------------------------------------------------\u001b[0m",
      "\u001b[0;31mKeyboardInterrupt\u001b[0m                         Traceback (most recent call last)",
      "Cell \u001b[0;32mIn[7], line 10\u001b[0m\n\u001b[1;32m      7\u001b[0m outputs_sensor_7 \u001b[38;5;241m=\u001b[39m []\n\u001b[1;32m      9\u001b[0m \u001b[38;5;66;03m# Assuming dl is your dataloader and model is your trained model\u001b[39;00m\n\u001b[0;32m---> 10\u001b[0m \u001b[38;5;28;43;01mfor\u001b[39;49;00m\u001b[43m \u001b[49m\u001b[43mi\u001b[49m\u001b[43m,\u001b[49m\u001b[43m \u001b[49m\u001b[43mbatch\u001b[49m\u001b[43m \u001b[49m\u001b[38;5;129;43;01min\u001b[39;49;00m\u001b[43m \u001b[49m\u001b[38;5;28;43menumerate\u001b[39;49m\u001b[43m(\u001b[49m\u001b[43mdl\u001b[49m\u001b[43m)\u001b[49m\u001b[43m:\u001b[49m\n\u001b[1;32m     11\u001b[0m \u001b[43m    \u001b[49m\u001b[38;5;28;43;01mif\u001b[39;49;00m\u001b[43m \u001b[49m\u001b[43mi\u001b[49m\u001b[43m \u001b[49m\u001b[38;5;241;43m>\u001b[39;49m\u001b[38;5;241;43m=\u001b[39;49m\u001b[43m \u001b[49m\u001b[38;5;241;43m200\u001b[39;49m\u001b[43m:\u001b[49m\n\u001b[1;32m     12\u001b[0m \u001b[43m        \u001b[49m\u001b[38;5;28;43;01mbreak\u001b[39;49;00m\n",
      "File \u001b[0;32m/mnt/BigHD_1/loucas/miniconda3/envs/diss/lib/python3.11/site-packages/torch/utils/data/dataloader.py:631\u001b[0m, in \u001b[0;36m_BaseDataLoaderIter.__next__\u001b[0;34m(self)\u001b[0m\n\u001b[1;32m    628\u001b[0m \u001b[38;5;28;01mif\u001b[39;00m \u001b[38;5;28mself\u001b[39m\u001b[38;5;241m.\u001b[39m_sampler_iter \u001b[38;5;129;01mis\u001b[39;00m \u001b[38;5;28;01mNone\u001b[39;00m:\n\u001b[1;32m    629\u001b[0m     \u001b[38;5;66;03m# TODO(https://github.com/pytorch/pytorch/issues/76750)\u001b[39;00m\n\u001b[1;32m    630\u001b[0m     \u001b[38;5;28mself\u001b[39m\u001b[38;5;241m.\u001b[39m_reset()  \u001b[38;5;66;03m# type: ignore[call-arg]\u001b[39;00m\n\u001b[0;32m--> 631\u001b[0m data \u001b[38;5;241m=\u001b[39m \u001b[38;5;28;43mself\u001b[39;49m\u001b[38;5;241;43m.\u001b[39;49m\u001b[43m_next_data\u001b[49m\u001b[43m(\u001b[49m\u001b[43m)\u001b[49m\n\u001b[1;32m    632\u001b[0m \u001b[38;5;28mself\u001b[39m\u001b[38;5;241m.\u001b[39m_num_yielded \u001b[38;5;241m+\u001b[39m\u001b[38;5;241m=\u001b[39m \u001b[38;5;241m1\u001b[39m\n\u001b[1;32m    633\u001b[0m \u001b[38;5;28;01mif\u001b[39;00m \u001b[38;5;28mself\u001b[39m\u001b[38;5;241m.\u001b[39m_dataset_kind \u001b[38;5;241m==\u001b[39m _DatasetKind\u001b[38;5;241m.\u001b[39mIterable \u001b[38;5;129;01mand\u001b[39;00m \\\n\u001b[1;32m    634\u001b[0m         \u001b[38;5;28mself\u001b[39m\u001b[38;5;241m.\u001b[39m_IterableDataset_len_called \u001b[38;5;129;01mis\u001b[39;00m \u001b[38;5;129;01mnot\u001b[39;00m \u001b[38;5;28;01mNone\u001b[39;00m \u001b[38;5;129;01mand\u001b[39;00m \\\n\u001b[1;32m    635\u001b[0m         \u001b[38;5;28mself\u001b[39m\u001b[38;5;241m.\u001b[39m_num_yielded \u001b[38;5;241m>\u001b[39m \u001b[38;5;28mself\u001b[39m\u001b[38;5;241m.\u001b[39m_IterableDataset_len_called:\n",
      "File \u001b[0;32m/mnt/BigHD_1/loucas/miniconda3/envs/diss/lib/python3.11/site-packages/torch/utils/data/dataloader.py:675\u001b[0m, in \u001b[0;36m_SingleProcessDataLoaderIter._next_data\u001b[0;34m(self)\u001b[0m\n\u001b[1;32m    673\u001b[0m \u001b[38;5;28;01mdef\u001b[39;00m \u001b[38;5;21m_next_data\u001b[39m(\u001b[38;5;28mself\u001b[39m):\n\u001b[1;32m    674\u001b[0m     index \u001b[38;5;241m=\u001b[39m \u001b[38;5;28mself\u001b[39m\u001b[38;5;241m.\u001b[39m_next_index()  \u001b[38;5;66;03m# may raise StopIteration\u001b[39;00m\n\u001b[0;32m--> 675\u001b[0m     data \u001b[38;5;241m=\u001b[39m \u001b[38;5;28;43mself\u001b[39;49m\u001b[38;5;241;43m.\u001b[39;49m\u001b[43m_dataset_fetcher\u001b[49m\u001b[38;5;241;43m.\u001b[39;49m\u001b[43mfetch\u001b[49m\u001b[43m(\u001b[49m\u001b[43mindex\u001b[49m\u001b[43m)\u001b[49m  \u001b[38;5;66;03m# may raise StopIteration\u001b[39;00m\n\u001b[1;32m    676\u001b[0m     \u001b[38;5;28;01mif\u001b[39;00m \u001b[38;5;28mself\u001b[39m\u001b[38;5;241m.\u001b[39m_pin_memory:\n\u001b[1;32m    677\u001b[0m         data \u001b[38;5;241m=\u001b[39m _utils\u001b[38;5;241m.\u001b[39mpin_memory\u001b[38;5;241m.\u001b[39mpin_memory(data, \u001b[38;5;28mself\u001b[39m\u001b[38;5;241m.\u001b[39m_pin_memory_device)\n",
      "File \u001b[0;32m/mnt/BigHD_1/loucas/miniconda3/envs/diss/lib/python3.11/site-packages/torch/utils/data/_utils/fetch.py:51\u001b[0m, in \u001b[0;36m_MapDatasetFetcher.fetch\u001b[0;34m(self, possibly_batched_index)\u001b[0m\n\u001b[1;32m     49\u001b[0m         data \u001b[38;5;241m=\u001b[39m \u001b[38;5;28mself\u001b[39m\u001b[38;5;241m.\u001b[39mdataset\u001b[38;5;241m.\u001b[39m__getitems__(possibly_batched_index)\n\u001b[1;32m     50\u001b[0m     \u001b[38;5;28;01melse\u001b[39;00m:\n\u001b[0;32m---> 51\u001b[0m         data \u001b[38;5;241m=\u001b[39m \u001b[43m[\u001b[49m\u001b[38;5;28;43mself\u001b[39;49m\u001b[38;5;241;43m.\u001b[39;49m\u001b[43mdataset\u001b[49m\u001b[43m[\u001b[49m\u001b[43midx\u001b[49m\u001b[43m]\u001b[49m\u001b[43m \u001b[49m\u001b[38;5;28;43;01mfor\u001b[39;49;00m\u001b[43m \u001b[49m\u001b[43midx\u001b[49m\u001b[43m \u001b[49m\u001b[38;5;129;43;01min\u001b[39;49;00m\u001b[43m \u001b[49m\u001b[43mpossibly_batched_index\u001b[49m\u001b[43m]\u001b[49m\n\u001b[1;32m     52\u001b[0m \u001b[38;5;28;01melse\u001b[39;00m:\n\u001b[1;32m     53\u001b[0m     data \u001b[38;5;241m=\u001b[39m \u001b[38;5;28mself\u001b[39m\u001b[38;5;241m.\u001b[39mdataset[possibly_batched_index]\n",
      "File \u001b[0;32m/mnt/BigHD_1/loucas/miniconda3/envs/diss/lib/python3.11/site-packages/torch/utils/data/_utils/fetch.py:51\u001b[0m, in \u001b[0;36m<listcomp>\u001b[0;34m(.0)\u001b[0m\n\u001b[1;32m     49\u001b[0m         data \u001b[38;5;241m=\u001b[39m \u001b[38;5;28mself\u001b[39m\u001b[38;5;241m.\u001b[39mdataset\u001b[38;5;241m.\u001b[39m__getitems__(possibly_batched_index)\n\u001b[1;32m     50\u001b[0m     \u001b[38;5;28;01melse\u001b[39;00m:\n\u001b[0;32m---> 51\u001b[0m         data \u001b[38;5;241m=\u001b[39m [\u001b[38;5;28;43mself\u001b[39;49m\u001b[38;5;241;43m.\u001b[39;49m\u001b[43mdataset\u001b[49m\u001b[43m[\u001b[49m\u001b[43midx\u001b[49m\u001b[43m]\u001b[49m \u001b[38;5;28;01mfor\u001b[39;00m idx \u001b[38;5;129;01min\u001b[39;00m possibly_batched_index]\n\u001b[1;32m     52\u001b[0m \u001b[38;5;28;01melse\u001b[39;00m:\n\u001b[1;32m     53\u001b[0m     data \u001b[38;5;241m=\u001b[39m \u001b[38;5;28mself\u001b[39m\u001b[38;5;241m.\u001b[39mdataset[possibly_batched_index]\n",
      "File \u001b[0;32m/mnt/BigHD_1/loucas/virtual-sensing/dataset.py:89\u001b[0m, in \u001b[0;36mFrankaDataset.__getitem__\u001b[0;34m(self, index)\u001b[0m\n\u001b[1;32m     86\u001b[0m \u001b[38;5;28;01mif\u001b[39;00m \u001b[38;5;28mself\u001b[39m\u001b[38;5;241m.\u001b[39mmap_location \u001b[38;5;129;01mis\u001b[39;00m \u001b[38;5;129;01mnot\u001b[39;00m \u001b[38;5;28;01mNone\u001b[39;00m:\n\u001b[1;32m     87\u001b[0m     \u001b[38;5;66;03m# manually move data to GPU\u001b[39;00m\n\u001b[1;32m     88\u001b[0m     sensor_data \u001b[38;5;241m=\u001b[39m sensor_data\u001b[38;5;241m.\u001b[39mcuda()\n\u001b[0;32m---> 89\u001b[0m     camera_data \u001b[38;5;241m=\u001b[39m \u001b[43mcamera_data\u001b[49m\u001b[38;5;241;43m.\u001b[39;49m\u001b[43mcuda\u001b[49m\u001b[43m(\u001b[49m\u001b[43m)\u001b[49m\n\u001b[1;32m     91\u001b[0m \u001b[38;5;28;01mreturn\u001b[39;00m {\n\u001b[1;32m     92\u001b[0m     \u001b[38;5;124m\"\u001b[39m\u001b[38;5;124msensor_data\u001b[39m\u001b[38;5;124m\"\u001b[39m: sensor_data,\n\u001b[1;32m     93\u001b[0m     \u001b[38;5;124m\"\u001b[39m\u001b[38;5;124mcamera_data\u001b[39m\u001b[38;5;124m\"\u001b[39m: camera_data,\n\u001b[1;32m     94\u001b[0m }\n",
      "\u001b[0;31mKeyboardInterrupt\u001b[0m: "
     ]
    }
   ],
   "source": [
    "import matplotlib.pyplot as plt\n",
    "\n",
    "# Initialize lists to store target and output values\n",
    "targets_sensor_6 = []\n",
    "targets_sensor_7 = []\n",
    "outputs_sensor_6 = []\n",
    "outputs_sensor_7 = []\n",
    "\n",
    "# Assuming dl is your dataloader and model is your trained model\n",
    "for i, batch in enumerate(dl):\n",
    "    if i >= 200:\n",
    "        break\n",
    "    target = batch[\"sensor_data\"][0, -1:, [6, 7]]\n",
    "    output = model.predict(batch)\n",
    "    print(output, target)\n",
    "\n",
    "    # Append the target values to the lists\n",
    "    targets_sensor_6.append(target[0, 0].item())\n",
    "    targets_sensor_7.append(target[0, 1].item())\n",
    "\n",
    "    # Extracting values from the output tensor\n",
    "    outputs_sensor_6.append(output[0, 0, 0].item())\n",
    "    outputs_sensor_7.append(output[0, 0, 1].item())\n",
    "\n",
    "# Plotting\n",
    "plt.figure(figsize=(14, 7))\n",
    "\n",
    "# Plot for Sensor 6\n",
    "plt.subplot(2, 1, 1)\n",
    "plt.plot(targets_sensor_6, label=\"Target Sensor 6\")\n",
    "plt.plot(outputs_sensor_6, label=\"Output Sensor 6\")\n",
    "plt.title(\"Sensor 6 - Target vs Output\")\n",
    "plt.xlabel(\"Batch\")\n",
    "plt.ylabel(\"Value\")\n",
    "plt.legend()\n",
    "\n",
    "# Plot for Sensor 7\n",
    "plt.subplot(2, 1, 2)\n",
    "plt.plot(targets_sensor_7, label=\"Target Sensor 7\")\n",
    "plt.plot(outputs_sensor_7, label=\"Output Sensor 7\")\n",
    "plt.title(\"Sensor 7 - Target vs Output\")\n",
    "plt.xlabel(\"Batch\")\n",
    "plt.ylabel(\"Value\")\n",
    "plt.legend()\n",
    "\n",
    "plt.tight_layout()\n",
    "plt.show()"
   ]
  }
 ],
 "metadata": {
  "kernelspec": {
   "display_name": "diss",
   "language": "python",
   "name": "python3"
  },
  "language_info": {
   "codemirror_mode": {
    "name": "ipython",
    "version": 3
   },
   "file_extension": ".py",
   "mimetype": "text/x-python",
   "name": "python",
   "nbconvert_exporter": "python",
   "pygments_lexer": "ipython3",
   "version": "3.11.9"
  }
 },
 "nbformat": 4,
 "nbformat_minor": 2
}
