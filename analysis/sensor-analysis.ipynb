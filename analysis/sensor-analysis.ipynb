{
 "cells": [
  {
   "cell_type": "code",
   "execution_count": 4,
   "metadata": {},
   "outputs": [
    {
     "ename": "KeyboardInterrupt",
     "evalue": "",
     "output_type": "error",
     "traceback": [
      "\u001b[0;31m---------------------------------------------------------------------------\u001b[0m",
      "\u001b[0;31mKeyboardInterrupt\u001b[0m                         Traceback (most recent call last)",
      "Cell \u001b[0;32mIn[4], line 12\u001b[0m\n\u001b[1;32m      9\u001b[0m     sys\u001b[38;5;241m.\u001b[39mpath\u001b[38;5;241m.\u001b[39mappend(root_path)\n\u001b[1;32m     11\u001b[0m \u001b[38;5;66;03m# Import modules from the 'modules' package\u001b[39;00m\n\u001b[0;32m---> 12\u001b[0m \u001b[38;5;28;01mfrom\u001b[39;00m \u001b[38;5;21;01mmodules\u001b[39;00m\u001b[38;5;21;01m.\u001b[39;00m\u001b[38;5;21;01mmamba\u001b[39;00m \u001b[38;5;28;01mimport\u001b[39;00m MambaModule\n\u001b[1;32m     13\u001b[0m \u001b[38;5;28;01mfrom\u001b[39;00m \u001b[38;5;21;01mmodules\u001b[39;00m\u001b[38;5;21;01m.\u001b[39;00m\u001b[38;5;21;01mrnn\u001b[39;00m \u001b[38;5;28;01mimport\u001b[39;00m RNNModule\n\u001b[1;32m     14\u001b[0m \u001b[38;5;28;01mfrom\u001b[39;00m \u001b[38;5;21;01mmodules\u001b[39;00m\u001b[38;5;21;01m.\u001b[39;00m\u001b[38;5;21;01mtransformer\u001b[39;00m \u001b[38;5;28;01mimport\u001b[39;00m TransformerModule\n",
      "File \u001b[0;32m/mnt/lustre/e1000/home/tc064/tc064/s2567498/virtual-sensing/modules/mamba.py:1\u001b[0m\n\u001b[0;32m----> 1\u001b[0m \u001b[38;5;28;01mfrom\u001b[39;00m \u001b[38;5;21;01mmamba_ssm\u001b[39;00m \u001b[38;5;28;01mimport\u001b[39;00m Mamba  \u001b[38;5;66;03m# type: ignore\u001b[39;00m\n\u001b[1;32m      2\u001b[0m \u001b[38;5;28;01mfrom\u001b[39;00m \u001b[38;5;21;01mmodules\u001b[39;00m\u001b[38;5;21;01m.\u001b[39;00m\u001b[38;5;21;01mbase\u001b[39;00m \u001b[38;5;28;01mimport\u001b[39;00m BaseModelModule\n\u001b[1;32m      3\u001b[0m \u001b[38;5;28;01mimport\u001b[39;00m \u001b[38;5;21;01mtorch\u001b[39;00m\n",
      "File \u001b[0;32m/work/tc064/tc064/s2567498/venv/lib/python3.12/site-packages/mamba_ssm/__init__.py:6\u001b[0m\n\u001b[1;32m      4\u001b[0m \u001b[38;5;28;01mfrom\u001b[39;00m \u001b[38;5;21;01mmamba_ssm\u001b[39;00m\u001b[38;5;21;01m.\u001b[39;00m\u001b[38;5;21;01mmodules\u001b[39;00m\u001b[38;5;21;01m.\u001b[39;00m\u001b[38;5;21;01mmamba_simple\u001b[39;00m \u001b[38;5;28;01mimport\u001b[39;00m Mamba\n\u001b[1;32m      5\u001b[0m \u001b[38;5;28;01mfrom\u001b[39;00m \u001b[38;5;21;01mmamba_ssm\u001b[39;00m\u001b[38;5;21;01m.\u001b[39;00m\u001b[38;5;21;01mmodules\u001b[39;00m\u001b[38;5;21;01m.\u001b[39;00m\u001b[38;5;21;01mmamba2\u001b[39;00m \u001b[38;5;28;01mimport\u001b[39;00m Mamba2\n\u001b[0;32m----> 6\u001b[0m \u001b[38;5;28;01mfrom\u001b[39;00m \u001b[38;5;21;01mmamba_ssm\u001b[39;00m\u001b[38;5;21;01m.\u001b[39;00m\u001b[38;5;21;01mmodels\u001b[39;00m\u001b[38;5;21;01m.\u001b[39;00m\u001b[38;5;21;01mmixer_seq_simple\u001b[39;00m \u001b[38;5;28;01mimport\u001b[39;00m MambaLMHeadModel\n",
      "File \u001b[0;32m/work/tc064/tc064/s2567498/venv/lib/python3.12/site-packages/mamba_ssm/models/mixer_seq_simple.py:20\u001b[0m\n\u001b[1;32m     18\u001b[0m \u001b[38;5;28;01mfrom\u001b[39;00m \u001b[38;5;21;01mmamba_ssm\u001b[39;00m\u001b[38;5;21;01m.\u001b[39;00m\u001b[38;5;21;01mmodules\u001b[39;00m\u001b[38;5;21;01m.\u001b[39;00m\u001b[38;5;21;01mmlp\u001b[39;00m \u001b[38;5;28;01mimport\u001b[39;00m GatedMLP\n\u001b[1;32m     19\u001b[0m \u001b[38;5;28;01mfrom\u001b[39;00m \u001b[38;5;21;01mmamba_ssm\u001b[39;00m\u001b[38;5;21;01m.\u001b[39;00m\u001b[38;5;21;01mmodules\u001b[39;00m\u001b[38;5;21;01m.\u001b[39;00m\u001b[38;5;21;01mblock\u001b[39;00m \u001b[38;5;28;01mimport\u001b[39;00m Block\n\u001b[0;32m---> 20\u001b[0m \u001b[38;5;28;01mfrom\u001b[39;00m \u001b[38;5;21;01mmamba_ssm\u001b[39;00m\u001b[38;5;21;01m.\u001b[39;00m\u001b[38;5;21;01mutils\u001b[39;00m\u001b[38;5;21;01m.\u001b[39;00m\u001b[38;5;21;01mgeneration\u001b[39;00m \u001b[38;5;28;01mimport\u001b[39;00m GenerationMixin\n\u001b[1;32m     21\u001b[0m \u001b[38;5;28;01mfrom\u001b[39;00m \u001b[38;5;21;01mmamba_ssm\u001b[39;00m\u001b[38;5;21;01m.\u001b[39;00m\u001b[38;5;21;01mutils\u001b[39;00m\u001b[38;5;21;01m.\u001b[39;00m\u001b[38;5;21;01mhf\u001b[39;00m \u001b[38;5;28;01mimport\u001b[39;00m load_config_hf, load_state_dict_hf\n\u001b[1;32m     23\u001b[0m \u001b[38;5;28;01mtry\u001b[39;00m:\n",
      "File \u001b[0;32m/work/tc064/tc064/s2567498/venv/lib/python3.12/site-packages/mamba_ssm/utils/generation.py:14\u001b[0m\n\u001b[1;32m     12\u001b[0m \u001b[38;5;28;01mfrom\u001b[39;00m \u001b[38;5;21;01mtorch\u001b[39;00m \u001b[38;5;28;01mimport\u001b[39;00m Tensor\n\u001b[1;32m     13\u001b[0m \u001b[38;5;28;01mfrom\u001b[39;00m \u001b[38;5;21;01mtorch\u001b[39;00m\u001b[38;5;21;01m.\u001b[39;00m\u001b[38;5;21;01mprofiler\u001b[39;00m \u001b[38;5;28;01mimport\u001b[39;00m ProfilerActivity, profile, record_function\n\u001b[0;32m---> 14\u001b[0m \u001b[38;5;28;01mfrom\u001b[39;00m \u001b[38;5;21;01mtransformers\u001b[39;00m\u001b[38;5;21;01m.\u001b[39;00m\u001b[38;5;21;01mgeneration\u001b[39;00m \u001b[38;5;28;01mimport\u001b[39;00m GreedySearchDecoderOnlyOutput, SampleDecoderOnlyOutput, TextStreamer\n\u001b[1;32m     17\u001b[0m \u001b[38;5;129m@dataclass\u001b[39m\n\u001b[1;32m     18\u001b[0m \u001b[38;5;28;01mclass\u001b[39;00m \u001b[38;5;21;01mInferenceParams\u001b[39;00m:\n\u001b[1;32m     19\u001b[0m \u001b[38;5;250m    \u001b[39m\u001b[38;5;124;03m\"\"\"Inference parameters that are passed to the main model in order\u001b[39;00m\n\u001b[1;32m     20\u001b[0m \u001b[38;5;124;03m    to efficienly calculate and store the context during inference.\"\"\"\u001b[39;00m\n",
      "File \u001b[0;32m<frozen importlib._bootstrap>:1412\u001b[0m, in \u001b[0;36m_handle_fromlist\u001b[0;34m(module, fromlist, import_, recursive)\u001b[0m\n",
      "File \u001b[0;32m/work/tc064/tc064/s2567498/venv/lib/python3.12/site-packages/transformers/utils/import_utils.py:1557\u001b[0m, in \u001b[0;36m_LazyModule.__getattr__\u001b[0;34m(self, name)\u001b[0m\n\u001b[1;32m   1555\u001b[0m     value \u001b[38;5;241m=\u001b[39m \u001b[38;5;28mself\u001b[39m\u001b[38;5;241m.\u001b[39m_get_module(name)\n\u001b[1;32m   1556\u001b[0m \u001b[38;5;28;01melif\u001b[39;00m name \u001b[38;5;129;01min\u001b[39;00m \u001b[38;5;28mself\u001b[39m\u001b[38;5;241m.\u001b[39m_class_to_module\u001b[38;5;241m.\u001b[39mkeys():\n\u001b[0;32m-> 1557\u001b[0m     module \u001b[38;5;241m=\u001b[39m \u001b[38;5;28;43mself\u001b[39;49m\u001b[38;5;241;43m.\u001b[39;49m\u001b[43m_get_module\u001b[49m\u001b[43m(\u001b[49m\u001b[38;5;28;43mself\u001b[39;49m\u001b[38;5;241;43m.\u001b[39;49m\u001b[43m_class_to_module\u001b[49m\u001b[43m[\u001b[49m\u001b[43mname\u001b[49m\u001b[43m]\u001b[49m\u001b[43m)\u001b[49m\n\u001b[1;32m   1558\u001b[0m     value \u001b[38;5;241m=\u001b[39m \u001b[38;5;28mgetattr\u001b[39m(module, name)\n\u001b[1;32m   1559\u001b[0m \u001b[38;5;28;01melse\u001b[39;00m:\n",
      "File \u001b[0;32m/work/tc064/tc064/s2567498/venv/lib/python3.12/site-packages/transformers/utils/import_utils.py:1567\u001b[0m, in \u001b[0;36m_LazyModule._get_module\u001b[0;34m(self, module_name)\u001b[0m\n\u001b[1;32m   1565\u001b[0m \u001b[38;5;28;01mdef\u001b[39;00m \u001b[38;5;21m_get_module\u001b[39m(\u001b[38;5;28mself\u001b[39m, module_name: \u001b[38;5;28mstr\u001b[39m):\n\u001b[1;32m   1566\u001b[0m     \u001b[38;5;28;01mtry\u001b[39;00m:\n\u001b[0;32m-> 1567\u001b[0m         \u001b[38;5;28;01mreturn\u001b[39;00m \u001b[43mimportlib\u001b[49m\u001b[38;5;241;43m.\u001b[39;49m\u001b[43mimport_module\u001b[49m\u001b[43m(\u001b[49m\u001b[38;5;124;43m\"\u001b[39;49m\u001b[38;5;124;43m.\u001b[39;49m\u001b[38;5;124;43m\"\u001b[39;49m\u001b[43m \u001b[49m\u001b[38;5;241;43m+\u001b[39;49m\u001b[43m \u001b[49m\u001b[43mmodule_name\u001b[49m\u001b[43m,\u001b[49m\u001b[43m \u001b[49m\u001b[38;5;28;43mself\u001b[39;49m\u001b[38;5;241;43m.\u001b[39;49m\u001b[38;5;18;43m__name__\u001b[39;49m\u001b[43m)\u001b[49m\n\u001b[1;32m   1568\u001b[0m     \u001b[38;5;28;01mexcept\u001b[39;00m \u001b[38;5;167;01mException\u001b[39;00m \u001b[38;5;28;01mas\u001b[39;00m e:\n\u001b[1;32m   1569\u001b[0m         \u001b[38;5;28;01mraise\u001b[39;00m \u001b[38;5;167;01mRuntimeError\u001b[39;00m(\n\u001b[1;32m   1570\u001b[0m             \u001b[38;5;124mf\u001b[39m\u001b[38;5;124m\"\u001b[39m\u001b[38;5;124mFailed to import \u001b[39m\u001b[38;5;132;01m{\u001b[39;00m\u001b[38;5;28mself\u001b[39m\u001b[38;5;241m.\u001b[39m\u001b[38;5;18m__name__\u001b[39m\u001b[38;5;132;01m}\u001b[39;00m\u001b[38;5;124m.\u001b[39m\u001b[38;5;132;01m{\u001b[39;00mmodule_name\u001b[38;5;132;01m}\u001b[39;00m\u001b[38;5;124m because of the following error (look up to see its\u001b[39m\u001b[38;5;124m\"\u001b[39m\n\u001b[1;32m   1571\u001b[0m             \u001b[38;5;124mf\u001b[39m\u001b[38;5;124m\"\u001b[39m\u001b[38;5;124m traceback):\u001b[39m\u001b[38;5;130;01m\\n\u001b[39;00m\u001b[38;5;132;01m{\u001b[39;00me\u001b[38;5;132;01m}\u001b[39;00m\u001b[38;5;124m\"\u001b[39m\n\u001b[1;32m   1572\u001b[0m         ) \u001b[38;5;28;01mfrom\u001b[39;00m \u001b[38;5;21;01me\u001b[39;00m\n",
      "File \u001b[0;32m/work/y07/shared/cirrus-software/miniconda3/24.1.2-0-py312-gpu/lib/python3.12/importlib/__init__.py:90\u001b[0m, in \u001b[0;36mimport_module\u001b[0;34m(name, package)\u001b[0m\n\u001b[1;32m     88\u001b[0m             \u001b[38;5;28;01mbreak\u001b[39;00m\n\u001b[1;32m     89\u001b[0m         level \u001b[38;5;241m+\u001b[39m\u001b[38;5;241m=\u001b[39m \u001b[38;5;241m1\u001b[39m\n\u001b[0;32m---> 90\u001b[0m \u001b[38;5;28;01mreturn\u001b[39;00m \u001b[43m_bootstrap\u001b[49m\u001b[38;5;241;43m.\u001b[39;49m\u001b[43m_gcd_import\u001b[49m\u001b[43m(\u001b[49m\u001b[43mname\u001b[49m\u001b[43m[\u001b[49m\u001b[43mlevel\u001b[49m\u001b[43m:\u001b[49m\u001b[43m]\u001b[49m\u001b[43m,\u001b[49m\u001b[43m \u001b[49m\u001b[43mpackage\u001b[49m\u001b[43m,\u001b[49m\u001b[43m \u001b[49m\u001b[43mlevel\u001b[49m\u001b[43m)\u001b[49m\n",
      "File \u001b[0;32m/work/tc064/tc064/s2567498/venv/lib/python3.12/site-packages/transformers/generation/utils.py:39\u001b[0m\n\u001b[1;32m     37\u001b[0m \u001b[38;5;28;01mfrom\u001b[39;00m \u001b[38;5;21;01m.\u001b[39;00m\u001b[38;5;21;01m.\u001b[39;00m\u001b[38;5;21;01mintegrations\u001b[39;00m\u001b[38;5;21;01m.\u001b[39;00m\u001b[38;5;21;01mdeepspeed\u001b[39;00m \u001b[38;5;28;01mimport\u001b[39;00m is_deepspeed_zero3_enabled\n\u001b[1;32m     38\u001b[0m \u001b[38;5;28;01mfrom\u001b[39;00m \u001b[38;5;21;01m.\u001b[39;00m\u001b[38;5;21;01m.\u001b[39;00m\u001b[38;5;21;01mmodeling_outputs\u001b[39;00m \u001b[38;5;28;01mimport\u001b[39;00m CausalLMOutputWithPast, Seq2SeqLMOutput\n\u001b[0;32m---> 39\u001b[0m \u001b[38;5;28;01mfrom\u001b[39;00m \u001b[38;5;21;01m.\u001b[39;00m\u001b[38;5;21;01m.\u001b[39;00m\u001b[38;5;21;01mmodels\u001b[39;00m\u001b[38;5;21;01m.\u001b[39;00m\u001b[38;5;21;01mauto\u001b[39;00m \u001b[38;5;28;01mimport\u001b[39;00m (\n\u001b[1;32m     40\u001b[0m     MODEL_FOR_CAUSAL_IMAGE_MODELING_MAPPING,\n\u001b[1;32m     41\u001b[0m     MODEL_FOR_CAUSAL_LM_MAPPING,\n\u001b[1;32m     42\u001b[0m     MODEL_FOR_SEQ_TO_SEQ_CAUSAL_LM_MAPPING,\n\u001b[1;32m     43\u001b[0m     MODEL_FOR_SPEECH_SEQ_2_SEQ_MAPPING,\n\u001b[1;32m     44\u001b[0m     MODEL_FOR_VISION_2_SEQ_MAPPING,\n\u001b[1;32m     45\u001b[0m )\n\u001b[1;32m     46\u001b[0m \u001b[38;5;28;01mfrom\u001b[39;00m \u001b[38;5;21;01m.\u001b[39;00m\u001b[38;5;21;01m.\u001b[39;00m\u001b[38;5;21;01mtokenization_utils\u001b[39;00m \u001b[38;5;28;01mimport\u001b[39;00m ExtensionsTrie\n\u001b[1;32m     47\u001b[0m \u001b[38;5;28;01mfrom\u001b[39;00m \u001b[38;5;21;01m.\u001b[39;00m\u001b[38;5;21;01m.\u001b[39;00m\u001b[38;5;21;01mutils\u001b[39;00m \u001b[38;5;28;01mimport\u001b[39;00m (\n\u001b[1;32m     48\u001b[0m     ModelOutput,\n\u001b[1;32m     49\u001b[0m     is_accelerate_available,\n\u001b[0;32m   (...)\u001b[0m\n\u001b[1;32m     53\u001b[0m     logging,\n\u001b[1;32m     54\u001b[0m )\n",
      "File \u001b[0;32m/work/tc064/tc064/s2567498/venv/lib/python3.12/site-packages/transformers/models/__init__.py:15\u001b[0m\n\u001b[1;32m      1\u001b[0m \u001b[38;5;66;03m# Copyright 2020 The HuggingFace Team. All rights reserved.\u001b[39;00m\n\u001b[1;32m      2\u001b[0m \u001b[38;5;66;03m#\u001b[39;00m\n\u001b[1;32m      3\u001b[0m \u001b[38;5;66;03m# Licensed under the Apache License, Version 2.0 (the \"License\");\u001b[39;00m\n\u001b[0;32m   (...)\u001b[0m\n\u001b[1;32m     12\u001b[0m \u001b[38;5;66;03m# See the License for the specific language governing permissions and\u001b[39;00m\n\u001b[1;32m     13\u001b[0m \u001b[38;5;66;03m# limitations under the License.\u001b[39;00m\n\u001b[0;32m---> 15\u001b[0m \u001b[38;5;28;01mfrom\u001b[39;00m \u001b[38;5;21;01m.\u001b[39;00m \u001b[38;5;28;01mimport\u001b[39;00m (\n\u001b[1;32m     16\u001b[0m     albert,\n\u001b[1;32m     17\u001b[0m     align,\n\u001b[1;32m     18\u001b[0m     altclip,\n\u001b[1;32m     19\u001b[0m     audio_spectrogram_transformer,\n\u001b[1;32m     20\u001b[0m     auto,\n\u001b[1;32m     21\u001b[0m     autoformer,\n\u001b[1;32m     22\u001b[0m     bark,\n\u001b[1;32m     23\u001b[0m     bart,\n\u001b[1;32m     24\u001b[0m     barthez,\n\u001b[1;32m     25\u001b[0m     bartpho,\n\u001b[1;32m     26\u001b[0m     beit,\n\u001b[1;32m     27\u001b[0m     bert,\n\u001b[1;32m     28\u001b[0m     bert_generation,\n\u001b[1;32m     29\u001b[0m     bert_japanese,\n\u001b[1;32m     30\u001b[0m     bertweet,\n\u001b[1;32m     31\u001b[0m     big_bird,\n\u001b[1;32m     32\u001b[0m     bigbird_pegasus,\n\u001b[1;32m     33\u001b[0m     biogpt,\n\u001b[1;32m     34\u001b[0m     bit,\n\u001b[1;32m     35\u001b[0m     blenderbot,\n\u001b[1;32m     36\u001b[0m     blenderbot_small,\n\u001b[1;32m     37\u001b[0m     blip,\n\u001b[1;32m     38\u001b[0m     blip_2,\n\u001b[1;32m     39\u001b[0m     bloom,\n\u001b[1;32m     40\u001b[0m     bridgetower,\n\u001b[1;32m     41\u001b[0m     bros,\n\u001b[1;32m     42\u001b[0m     byt5,\n\u001b[1;32m     43\u001b[0m     camembert,\n\u001b[1;32m     44\u001b[0m     canine,\n\u001b[1;32m     45\u001b[0m     chinese_clip,\n\u001b[1;32m     46\u001b[0m     clap,\n\u001b[1;32m     47\u001b[0m     clip,\n\u001b[1;32m     48\u001b[0m     clipseg,\n\u001b[1;32m     49\u001b[0m     clvp,\n\u001b[1;32m     50\u001b[0m     code_llama,\n\u001b[1;32m     51\u001b[0m     codegen,\n\u001b[1;32m     52\u001b[0m     cohere,\n\u001b[1;32m     53\u001b[0m     conditional_detr,\n\u001b[1;32m     54\u001b[0m     convbert,\n\u001b[1;32m     55\u001b[0m     convnext,\n\u001b[1;32m     56\u001b[0m     convnextv2,\n\u001b[1;32m     57\u001b[0m     cpm,\n\u001b[1;32m     58\u001b[0m     cpmant,\n\u001b[1;32m     59\u001b[0m     ctrl,\n\u001b[1;32m     60\u001b[0m     cvt,\n\u001b[1;32m     61\u001b[0m     data2vec,\n\u001b[1;32m     62\u001b[0m     dbrx,\n\u001b[1;32m     63\u001b[0m     deberta,\n\u001b[1;32m     64\u001b[0m     deberta_v2,\n\u001b[1;32m     65\u001b[0m     decision_transformer,\n\u001b[1;32m     66\u001b[0m     deformable_detr,\n\u001b[1;32m     67\u001b[0m     deit,\n\u001b[1;32m     68\u001b[0m     deprecated,\n\u001b[1;32m     69\u001b[0m     depth_anything,\n\u001b[1;32m     70\u001b[0m     detr,\n\u001b[1;32m     71\u001b[0m     dialogpt,\n\u001b[1;32m     72\u001b[0m     dinat,\n\u001b[1;32m     73\u001b[0m     dinov2,\n\u001b[1;32m     74\u001b[0m     distilbert,\n\u001b[1;32m     75\u001b[0m     dit,\n\u001b[1;32m     76\u001b[0m     donut,\n\u001b[1;32m     77\u001b[0m     dpr,\n\u001b[1;32m     78\u001b[0m     dpt,\n\u001b[1;32m     79\u001b[0m     efficientnet,\n\u001b[1;32m     80\u001b[0m     electra,\n\u001b[1;32m     81\u001b[0m     encodec,\n\u001b[1;32m     82\u001b[0m     encoder_decoder,\n\u001b[1;32m     83\u001b[0m     ernie,\n\u001b[1;32m     84\u001b[0m     esm,\n\u001b[1;32m     85\u001b[0m     falcon,\n\u001b[1;32m     86\u001b[0m     fastspeech2_conformer,\n\u001b[1;32m     87\u001b[0m     flaubert,\n\u001b[1;32m     88\u001b[0m     flava,\n\u001b[1;32m     89\u001b[0m     fnet,\n\u001b[1;32m     90\u001b[0m     focalnet,\n\u001b[1;32m     91\u001b[0m     fsmt,\n\u001b[1;32m     92\u001b[0m     funnel,\n\u001b[1;32m     93\u001b[0m     fuyu,\n\u001b[1;32m     94\u001b[0m     gemma,\n\u001b[1;32m     95\u001b[0m     gemma2,\n\u001b[1;32m     96\u001b[0m     git,\n\u001b[1;32m     97\u001b[0m     glpn,\n\u001b[1;32m     98\u001b[0m     gpt2,\n\u001b[1;32m     99\u001b[0m     gpt_bigcode,\n\u001b[1;32m    100\u001b[0m     gpt_neo,\n\u001b[1;32m    101\u001b[0m     gpt_neox,\n\u001b[1;32m    102\u001b[0m     gpt_neox_japanese,\n\u001b[1;32m    103\u001b[0m     gpt_sw3,\n\u001b[1;32m    104\u001b[0m     gptj,\n\u001b[1;32m    105\u001b[0m     grounding_dino,\n\u001b[1;32m    106\u001b[0m     groupvit,\n\u001b[1;32m    107\u001b[0m     herbert,\n\u001b[1;32m    108\u001b[0m     hubert,\n\u001b[1;32m    109\u001b[0m     ibert,\n\u001b[1;32m    110\u001b[0m     idefics,\n\u001b[1;32m    111\u001b[0m     idefics2,\n\u001b[1;32m    112\u001b[0m     imagegpt,\n\u001b[1;32m    113\u001b[0m     informer,\n\u001b[1;32m    114\u001b[0m     instructblip,\n\u001b[1;32m    115\u001b[0m     instructblipvideo,\n\u001b[1;32m    116\u001b[0m     jamba,\n\u001b[1;32m    117\u001b[0m     jetmoe,\n\u001b[1;32m    118\u001b[0m     kosmos2,\n\u001b[1;32m    119\u001b[0m     layoutlm,\n\u001b[1;32m    120\u001b[0m     layoutlmv2,\n\u001b[1;32m    121\u001b[0m     layoutlmv3,\n\u001b[1;32m    122\u001b[0m     layoutxlm,\n\u001b[1;32m    123\u001b[0m     led,\n\u001b[1;32m    124\u001b[0m     levit,\n\u001b[1;32m    125\u001b[0m     lilt,\n\u001b[1;32m    126\u001b[0m     llama,\n\u001b[1;32m    127\u001b[0m     llava,\n\u001b[1;32m    128\u001b[0m     llava_next,\n\u001b[1;32m    129\u001b[0m     llava_next_video,\n\u001b[1;32m    130\u001b[0m     longformer,\n\u001b[1;32m    131\u001b[0m     longt5,\n\u001b[1;32m    132\u001b[0m     luke,\n\u001b[1;32m    133\u001b[0m     lxmert,\n\u001b[1;32m    134\u001b[0m     m2m_100,\n\u001b[1;32m    135\u001b[0m     mamba,\n\u001b[1;32m    136\u001b[0m     marian,\n\u001b[1;32m    137\u001b[0m     markuplm,\n\u001b[1;32m    138\u001b[0m     mask2former,\n\u001b[1;32m    139\u001b[0m     maskformer,\n\u001b[1;32m    140\u001b[0m     mbart,\n\u001b[1;32m    141\u001b[0m     mbart50,\n\u001b[1;32m    142\u001b[0m     megatron_bert,\n\u001b[1;32m    143\u001b[0m     megatron_gpt2,\n\u001b[1;32m    144\u001b[0m     mgp_str,\n\u001b[1;32m    145\u001b[0m     mistral,\n\u001b[1;32m    146\u001b[0m     mixtral,\n\u001b[1;32m    147\u001b[0m     mluke,\n\u001b[1;32m    148\u001b[0m     mobilebert,\n\u001b[1;32m    149\u001b[0m     mobilenet_v1,\n\u001b[1;32m    150\u001b[0m     mobilenet_v2,\n\u001b[1;32m    151\u001b[0m     mobilevit,\n\u001b[1;32m    152\u001b[0m     mobilevitv2,\n\u001b[1;32m    153\u001b[0m     mpnet,\n\u001b[1;32m    154\u001b[0m     mpt,\n\u001b[1;32m    155\u001b[0m     mra,\n\u001b[1;32m    156\u001b[0m     mt5,\n\u001b[1;32m    157\u001b[0m     musicgen,\n\u001b[1;32m    158\u001b[0m     musicgen_melody,\n\u001b[1;32m    159\u001b[0m     mvp,\n\u001b[1;32m    160\u001b[0m     nllb,\n\u001b[1;32m    161\u001b[0m     nllb_moe,\n\u001b[1;32m    162\u001b[0m     nougat,\n\u001b[1;32m    163\u001b[0m     nystromformer,\n\u001b[1;32m    164\u001b[0m     olmo,\n\u001b[1;32m    165\u001b[0m     oneformer,\n\u001b[1;32m    166\u001b[0m     openai,\n\u001b[1;32m    167\u001b[0m     opt,\n\u001b[1;32m    168\u001b[0m     owlv2,\n\u001b[1;32m    169\u001b[0m     owlvit,\n\u001b[1;32m    170\u001b[0m     paligemma,\n\u001b[1;32m    171\u001b[0m     patchtsmixer,\n\u001b[1;32m    172\u001b[0m     patchtst,\n\u001b[1;32m    173\u001b[0m     pegasus,\n\u001b[1;32m    174\u001b[0m     pegasus_x,\n\u001b[1;32m    175\u001b[0m     perceiver,\n\u001b[1;32m    176\u001b[0m     persimmon,\n\u001b[1;32m    177\u001b[0m     phi,\n\u001b[1;32m    178\u001b[0m     phi3,\n\u001b[1;32m    179\u001b[0m     phobert,\n\u001b[1;32m    180\u001b[0m     pix2struct,\n\u001b[1;32m    181\u001b[0m     plbart,\n\u001b[1;32m    182\u001b[0m     poolformer,\n\u001b[1;32m    183\u001b[0m     pop2piano,\n\u001b[1;32m    184\u001b[0m     prophetnet,\n\u001b[1;32m    185\u001b[0m     pvt,\n\u001b[1;32m    186\u001b[0m     pvt_v2,\n\u001b[1;32m    187\u001b[0m     qwen2,\n\u001b[1;32m    188\u001b[0m     qwen2_moe,\n\u001b[1;32m    189\u001b[0m     rag,\n\u001b[1;32m    190\u001b[0m     recurrent_gemma,\n\u001b[1;32m    191\u001b[0m     reformer,\n\u001b[1;32m    192\u001b[0m     regnet,\n\u001b[1;32m    193\u001b[0m     rembert,\n\u001b[1;32m    194\u001b[0m     resnet,\n\u001b[1;32m    195\u001b[0m     roberta,\n\u001b[1;32m    196\u001b[0m     roberta_prelayernorm,\n\u001b[1;32m    197\u001b[0m     roc_bert,\n\u001b[1;32m    198\u001b[0m     roformer,\n\u001b[1;32m    199\u001b[0m     rt_detr,\n\u001b[1;32m    200\u001b[0m     rwkv,\n\u001b[1;32m    201\u001b[0m     sam,\n\u001b[1;32m    202\u001b[0m     seamless_m4t,\n\u001b[1;32m    203\u001b[0m     seamless_m4t_v2,\n\u001b[1;32m    204\u001b[0m     segformer,\n\u001b[1;32m    205\u001b[0m     seggpt,\n\u001b[1;32m    206\u001b[0m     sew,\n\u001b[1;32m    207\u001b[0m     sew_d,\n\u001b[1;32m    208\u001b[0m     siglip,\n\u001b[1;32m    209\u001b[0m     speech_encoder_decoder,\n\u001b[1;32m    210\u001b[0m     speech_to_text,\n\u001b[1;32m    211\u001b[0m     speecht5,\n\u001b[1;32m    212\u001b[0m     splinter,\n\u001b[1;32m    213\u001b[0m     squeezebert,\n\u001b[1;32m    214\u001b[0m     stablelm,\n\u001b[1;32m    215\u001b[0m     starcoder2,\n\u001b[1;32m    216\u001b[0m     superpoint,\n\u001b[1;32m    217\u001b[0m     swiftformer,\n\u001b[1;32m    218\u001b[0m     swin,\n\u001b[1;32m    219\u001b[0m     swin2sr,\n\u001b[1;32m    220\u001b[0m     swinv2,\n\u001b[1;32m    221\u001b[0m     switch_transformers,\n\u001b[1;32m    222\u001b[0m     t5,\n\u001b[1;32m    223\u001b[0m     table_transformer,\n\u001b[1;32m    224\u001b[0m     tapas,\n\u001b[1;32m    225\u001b[0m     time_series_transformer,\n\u001b[1;32m    226\u001b[0m     timesformer,\n\u001b[1;32m    227\u001b[0m     timm_backbone,\n\u001b[1;32m    228\u001b[0m     trocr,\n\u001b[1;32m    229\u001b[0m     tvp,\n\u001b[1;32m    230\u001b[0m     udop,\n\u001b[1;32m    231\u001b[0m     umt5,\n\u001b[1;32m    232\u001b[0m     unispeech,\n\u001b[1;32m    233\u001b[0m     unispeech_sat,\n\u001b[1;32m    234\u001b[0m     univnet,\n\u001b[1;32m    235\u001b[0m     upernet,\n\u001b[1;32m    236\u001b[0m     video_llava,\n\u001b[1;32m    237\u001b[0m     videomae,\n\u001b[1;32m    238\u001b[0m     vilt,\n\u001b[1;32m    239\u001b[0m     vipllava,\n\u001b[1;32m    240\u001b[0m     vision_encoder_decoder,\n\u001b[1;32m    241\u001b[0m     vision_text_dual_encoder,\n\u001b[1;32m    242\u001b[0m     visual_bert,\n\u001b[1;32m    243\u001b[0m     vit,\n\u001b[1;32m    244\u001b[0m     vit_mae,\n\u001b[1;32m    245\u001b[0m     vit_msn,\n\u001b[1;32m    246\u001b[0m     vitdet,\n\u001b[1;32m    247\u001b[0m     vitmatte,\n\u001b[1;32m    248\u001b[0m     vits,\n\u001b[1;32m    249\u001b[0m     vivit,\n\u001b[1;32m    250\u001b[0m     wav2vec2,\n\u001b[1;32m    251\u001b[0m     wav2vec2_bert,\n\u001b[1;32m    252\u001b[0m     wav2vec2_conformer,\n\u001b[1;32m    253\u001b[0m     wav2vec2_phoneme,\n\u001b[1;32m    254\u001b[0m     wav2vec2_with_lm,\n\u001b[1;32m    255\u001b[0m     wavlm,\n\u001b[1;32m    256\u001b[0m     whisper,\n\u001b[1;32m    257\u001b[0m     x_clip,\n\u001b[1;32m    258\u001b[0m     xglm,\n\u001b[1;32m    259\u001b[0m     xlm,\n\u001b[1;32m    260\u001b[0m     xlm_roberta,\n\u001b[1;32m    261\u001b[0m     xlm_roberta_xl,\n\u001b[1;32m    262\u001b[0m     xlnet,\n\u001b[1;32m    263\u001b[0m     xmod,\n\u001b[1;32m    264\u001b[0m     yolos,\n\u001b[1;32m    265\u001b[0m     yoso,\n\u001b[1;32m    266\u001b[0m )\n",
      "File \u001b[0;32m<frozen importlib._bootstrap>:1360\u001b[0m, in \u001b[0;36m_find_and_load\u001b[0;34m(name, import_)\u001b[0m\n",
      "File \u001b[0;32m<frozen importlib._bootstrap>:1331\u001b[0m, in \u001b[0;36m_find_and_load_unlocked\u001b[0;34m(name, import_)\u001b[0m\n",
      "File \u001b[0;32m<frozen importlib._bootstrap>:935\u001b[0m, in \u001b[0;36m_load_unlocked\u001b[0;34m(spec)\u001b[0m\n",
      "File \u001b[0;32m<frozen importlib._bootstrap_external>:990\u001b[0m, in \u001b[0;36mexec_module\u001b[0;34m(self, module)\u001b[0m\n",
      "File \u001b[0;32m<frozen importlib._bootstrap_external>:1086\u001b[0m, in \u001b[0;36mget_code\u001b[0;34m(self, fullname)\u001b[0m\n",
      "File \u001b[0;32m<frozen importlib._bootstrap_external>:1186\u001b[0m, in \u001b[0;36mget_data\u001b[0;34m(self, path)\u001b[0m\n",
      "\u001b[0;31mKeyboardInterrupt\u001b[0m: "
     ]
    }
   ],
   "source": [
    "import sys\n",
    "import os\n",
    "\n",
    "# Define the path to the modules directory\n",
    "root_path = os.path.abspath(\"..\")\n",
    "\n",
    "# Add the path to the sys.path if it's not already there\n",
    "if root_path not in sys.path:\n",
    "    sys.path.append(root_path)\n",
    "\n",
    "# Import modules from the 'modules' package\n",
    "from modules.mamba import MambaModule\n",
    "from modules.rnn import RNNModule\n",
    "from modules.transformer import TransformerModule\n",
    "from dataset import FrankaDataset\n",
    "\n",
    "# Other imports\n",
    "import torch\n",
    "from torch.utils.data import DataLoader\n",
    "import matplotlib.pyplot as plt\n",
    "import numpy as np\n",
    "import glob\n",
    "from const import *\n",
    "import yaml\n",
    "import shutil\n",
    "from pathlib import Path"
   ]
  },
  {
   "cell_type": "code",
   "execution_count": 2,
   "metadata": {},
   "outputs": [],
   "source": [
    "def copy_and_modify_yaml(input_path, output_dir, work_dir):\n",
    "    \"\"\"\n",
    "    Copies a YAML file, modifies the resnet_checkpoint path, and returns the new path.\n",
    "\n",
    "    Args:\n",
    "    - input_path (str): The path to the input YAML file.\n",
    "    - output_dir (str): The directory where the new YAML file will be saved.\n",
    "    - work_dir (str): The new directory path to replace the resnet_checkpoint path.\n",
    "\n",
    "    Returns:\n",
    "    - str: The path to the new YAML file.\n",
    "    \"\"\"\n",
    "    # Ensure output directory exists\n",
    "    Path(output_dir).mkdir(parents=True, exist_ok=True)\n",
    "\n",
    "    # Read the input YAML file\n",
    "    with open(input_path, \"r\") as file:\n",
    "        yaml_data = yaml.safe_load(file)\n",
    "\n",
    "    # Modify the resnet_checkpoint path\n",
    "    if \"resnet_checkpoint\" in yaml_data:\n",
    "        old_checkpoint_path = yaml_data[\"resnet_checkpoint\"]\n",
    "        filename = Path(old_checkpoint_path).name\n",
    "        new_checkpoint_path = Path(work_dir) / filename\n",
    "        yaml_data[\"resnet_checkpoint\"] = str(new_checkpoint_path)\n",
    "\n",
    "    # Create the new file path\n",
    "    input_filename = Path(input_path).name\n",
    "    new_filename = f\"temp_{input_filename}\"\n",
    "    new_file_path = Path(output_dir) / new_filename\n",
    "\n",
    "    # Write the modified data to the new YAML file\n",
    "    with open(new_file_path, \"w\") as file:\n",
    "        yaml.safe_dump(yaml_data, file)\n",
    "\n",
    "    return str(new_file_path)"
   ]
  },
  {
   "cell_type": "code",
   "execution_count": 3,
   "metadata": {},
   "outputs": [
    {
     "ename": "NameError",
     "evalue": "name 'FrankaDataset' is not defined",
     "output_type": "error",
     "traceback": [
      "\u001b[0;31m---------------------------------------------------------------------------\u001b[0m",
      "\u001b[0;31mNameError\u001b[0m                                 Traceback (most recent call last)",
      "Cell \u001b[0;32mIn[3], line 1\u001b[0m\n\u001b[0;32m----> 1\u001b[0m ds \u001b[38;5;241m=\u001b[39m \u001b[43mFrankaDataset\u001b[49m(data_dir\u001b[38;5;241m=\u001b[39mos\u001b[38;5;241m.\u001b[39mpath\u001b[38;5;241m.\u001b[39mjoin(WORK_DIR, \u001b[38;5;124m\"\u001b[39m\u001b[38;5;124mdata-w-camera\u001b[39m\u001b[38;5;124m\"\u001b[39m),\n\u001b[1;32m      2\u001b[0m                       episode_length\u001b[38;5;241m=\u001b[39m\u001b[38;5;241m200\u001b[39m,\n\u001b[1;32m      3\u001b[0m                       limited_gpu_memory\u001b[38;5;241m=\u001b[39m\u001b[38;5;28;01mTrue\u001b[39;00m,\n\u001b[1;32m      4\u001b[0m                       stride\u001b[38;5;241m=\u001b[39m\u001b[38;5;241m1\u001b[39m,\n\u001b[1;32m      5\u001b[0m                       prediction_distance\u001b[38;5;241m=\u001b[39m\u001b[38;5;241m1\u001b[39m,\n\u001b[1;32m      6\u001b[0m                       window_size\u001b[38;5;241m=\u001b[39m\u001b[38;5;241m10\u001b[39m\n\u001b[1;32m      7\u001b[0m                       )\n\u001b[1;32m      8\u001b[0m dl \u001b[38;5;241m=\u001b[39m DataLoader(ds, batch_size\u001b[38;5;241m=\u001b[39m\u001b[38;5;241m1\u001b[39m, shuffle\u001b[38;5;241m=\u001b[39m\u001b[38;5;28;01mFalse\u001b[39;00m)\n",
      "\u001b[0;31mNameError\u001b[0m: name 'FrankaDataset' is not defined"
     ]
    }
   ],
   "source": [
    "ds = FrankaDataset(data_dir=os.path.join(WORK_DIR, \"data-w-camera\"),\n",
    "                      episode_length=200,\n",
    "                      limited_gpu_memory=True,\n",
    "                      stride=1,\n",
    "                      prediction_distance=1,\n",
    "                      window_size=10\n",
    "                      )\n",
    "dl = DataLoader(ds, batch_size=1, shuffle=False)"
   ]
  },
  {
   "cell_type": "code",
   "execution_count": 2,
   "metadata": {},
   "outputs": [
    {
     "ename": "NameError",
     "evalue": "name 'RNNModule' is not defined",
     "output_type": "error",
     "traceback": [
      "\u001b[0;31m---------------------------------------------------------------------------\u001b[0m",
      "\u001b[0;31mNameError\u001b[0m                                 Traceback (most recent call last)",
      "Cell \u001b[0;32mIn[2], line 2\u001b[0m\n\u001b[1;32m      1\u001b[0m \u001b[38;5;66;03m# small\u001b[39;00m\n\u001b[0;32m----> 2\u001b[0m rnn \u001b[38;5;241m=\u001b[39m \u001b[43mRNNModule\u001b[49m\u001b[38;5;241m.\u001b[39mload_from_checkpoint(\n\u001b[1;32m      3\u001b[0m     checkpoint_path\u001b[38;5;241m=\u001b[39mRNN_SMALL_CHECKPOINT,\n\u001b[1;32m      4\u001b[0m     hparams_file\u001b[38;5;241m=\u001b[39mcopy_and_modify_yaml(RNN_SMALL_PARAMS, WORK_DIR, WORK_DIR),\n\u001b[1;32m      5\u001b[0m )\n\u001b[1;32m      6\u001b[0m mamba \u001b[38;5;241m=\u001b[39m MambaModule\u001b[38;5;241m.\u001b[39mload_from_checkpoint(\n\u001b[1;32m      7\u001b[0m     checkpoint_path\u001b[38;5;241m=\u001b[39mMAMBA_SMALL_CHECKPOINT,\n\u001b[1;32m      8\u001b[0m     hparams_file\u001b[38;5;241m=\u001b[39mcopy_and_modify_yaml(MAMBA_SMALL_PARAMS, WORK_DIR, WORK_DIR),\n\u001b[1;32m      9\u001b[0m )\n\u001b[1;32m     10\u001b[0m transformer \u001b[38;5;241m=\u001b[39m TransformerModule\u001b[38;5;241m.\u001b[39mload_from_checkpoint(\n\u001b[1;32m     11\u001b[0m     checkpoint_path\u001b[38;5;241m=\u001b[39mTRANSFORMER_SMALL_CHECKPOINT,\n\u001b[1;32m     12\u001b[0m     hparams_file\u001b[38;5;241m=\u001b[39mcopy_and_modify_yaml(TRANSFORMER_SMALL_PARAMS, WORK_DIR, WORK_DIR),\n\u001b[1;32m     13\u001b[0m )\n",
      "\u001b[0;31mNameError\u001b[0m: name 'RNNModule' is not defined"
     ]
    }
   ],
   "source": [
    "# small\n",
    "rnn = RNNModule.load_from_checkpoint(\n",
    "    checkpoint_path=RNN_SMALL_CHECKPOINT,\n",
    "    hparams_file=copy_and_modify_yaml(RNN_SMALL_PARAMS, WORK_DIR, WORK_DIR),\n",
    ")\n",
    "mamba = MambaModule.load_from_checkpoint(\n",
    "    checkpoint_path=MAMBA_SMALL_CHECKPOINT,\n",
    "    hparams_file=copy_and_modify_yaml(MAMBA_SMALL_PARAMS, WORK_DIR, WORK_DIR),\n",
    ")\n",
    "transformer = TransformerModule.load_from_checkpoint(\n",
    "    checkpoint_path=TRANSFORMER_SMALL_CHECKPOINT,\n",
    "    hparams_file=copy_and_modify_yaml(TRANSFORMER_SMALL_PARAMS, WORK_DIR, WORK_DIR),\n",
    ")"
   ]
  },
  {
   "cell_type": "code",
   "execution_count": null,
   "metadata": {},
   "outputs": [],
   "source": [
    "# large\n",
    "rnn = RNNModule.load_from_checkpoint(\n",
    "    checkpoint_path=RNN_LARGE_CHECKPOINT,\n",
    "    hparams_file=copy_and_modify_yaml(RNN_LARGE_PARAMS, WORK_DIR, WORK_DIR),\n",
    ")\n",
    "mamba = MambaModule.load_from_checkpoint(\n",
    "    checkpoint_path=MAMBA_LARGE_CHECKPOINT,\n",
    "    hparams_file=copy_and_modify_yaml(MAMBA_LARGE_PARAMS, WORK_DIR, WORK_DIR),\n",
    ")\n",
    "transformer = TransformerModule.load_from_checkpoint(\n",
    "    checkpoint_path=TRANSFORMER_LARGE_CHECKPOINT,\n",
    "    hparams_file=copy_and_modify_yaml(TRANSFORMER_LARGE_PARAMS, WORK_DIR, WORK_DIR),\n",
    ")"
   ]
  },
  {
   "cell_type": "code",
   "execution_count": null,
   "metadata": {},
   "outputs": [],
   "source": [
    "# huge\n",
    "rnn = RNNModule.load_from_checkpoint(\n",
    "    checkpoint_path=RNN_HUGE_CHECKPOINT,\n",
    "    hparams_file=copy_and_modify_yaml(RNN_HUGE_PARAMS, WORK_DIR, WORK_DIR),\n",
    ")\n",
    "mamba = MambaModule.load_from_checkpoint(\n",
    "    checkpoint_path=MAMBA_HUGE_CHECKPOINT,\n",
    "    hparams_file=copy_and_modify_yaml(MAMBA_HUGE_PARAMS, WORK_DIR, WORK_DIR),\n",
    ")\n",
    "transformer = TransformerModule.load_from_checkpoint(\n",
    "    checkpoint_path=TRANSFORMER_HUGE_CHECKPOINT,\n",
    "    hparams_file=copy_and_modify_yaml(TRANSFORMER_HUGE_PARAMS, WORK_DIR, WORK_DIR),\n",
    ")"
   ]
  },
  {
   "cell_type": "markdown",
   "metadata": {},
   "source": [
    "Now run all 3 and plot their results with target for sensor 6 and 7"
   ]
  },
  {
   "cell_type": "code",
   "execution_count": 1,
   "metadata": {},
   "outputs": [
    {
     "ename": "NameError",
     "evalue": "name 'dl' is not defined",
     "output_type": "error",
     "traceback": [
      "\u001b[0;31m---------------------------------------------------------------------------\u001b[0m",
      "\u001b[0;31mNameError\u001b[0m                                 Traceback (most recent call last)",
      "Cell \u001b[0;32mIn[1], line 10\u001b[0m\n\u001b[1;32m      7\u001b[0m outputs_transformer \u001b[38;5;241m=\u001b[39m []\n\u001b[1;32m      9\u001b[0m \u001b[38;5;66;03m# Assuming dl is your dataloader and model is your trained model\u001b[39;00m\n\u001b[0;32m---> 10\u001b[0m \u001b[38;5;28;01mfor\u001b[39;00m i, batch \u001b[38;5;129;01min\u001b[39;00m \u001b[38;5;28menumerate\u001b[39m(\u001b[43mdl\u001b[49m):\n\u001b[1;32m     11\u001b[0m     \u001b[38;5;28;01mif\u001b[39;00m i \u001b[38;5;241m>\u001b[39m\u001b[38;5;241m=\u001b[39m \u001b[38;5;241m200\u001b[39m:\n\u001b[1;32m     12\u001b[0m         \u001b[38;5;28;01mbreak\u001b[39;00m\n",
      "\u001b[0;31mNameError\u001b[0m: name 'dl' is not defined"
     ]
    }
   ],
   "source": [
    "import matplotlib.pyplot as plt\n",
    "\n",
    "# Initialize lists to store target and output values\n",
    "targets = []\n",
    "outputs_rnn = []\n",
    "outputs_mamba = []\n",
    "outputs_transformer = []\n",
    "\n",
    "# Assuming dl is your dataloader and model is your trained model\n",
    "for i, batch in enumerate(dl):\n",
    "    if i >= 200:\n",
    "        break\n",
    "    targets.append(batch[\"sensor_data\"][0, -1:, [6, 7]])\n",
    "    outputs_rnn.append(rnn.predict(batch))\n",
    "    outputs_mamba.append(mamba.predict(batch))\n",
    "    outputs_transformer.append(transformer.predict(batch))\n",
    "\n",
    "print(outputs_mamba)\n",
    "# # Plotting\n",
    "# plt.figure(figsize=(14, 7))\n",
    "\n",
    "# # Plot for Sensor 6\n",
    "# plt.subplot(2, 1, 1)\n",
    "# plt.plot(targets_sensor_6, label=\"Target Sensor 6\")\n",
    "# plt.plot(outputs_sensor_6, label=\"Output Sensor 6\")\n",
    "# plt.title(\"Sensor 6 - Target vs Output\")\n",
    "# plt.xlabel(\"Batch\")\n",
    "# plt.ylabel(\"Value\")\n",
    "# plt.legend()\n",
    "\n",
    "# # Plot for Sensor 7\n",
    "# plt.subplot(2, 1, 2)\n",
    "# plt.plot(targets_sensor_7, label=\"Target Sensor 7\")\n",
    "# plt.plot(outputs_sensor_7, label=\"Output Sensor 7\")\n",
    "# plt.title(\"Sensor 7 - Target vs Output\")\n",
    "# plt.xlabel(\"Batch\")\n",
    "# plt.ylabel(\"Value\")\n",
    "# plt.legend()\n",
    "\n",
    "# plt.tight_layout()\n",
    "# plt.show()"
   ]
  }
 ],
 "metadata": {
  "kernelspec": {
   "display_name": "diss",
   "language": "python",
   "name": "python3"
  },
  "language_info": {
   "codemirror_mode": {
    "name": "ipython",
    "version": 3
   },
   "file_extension": ".py",
   "mimetype": "text/x-python",
   "name": "python",
   "nbconvert_exporter": "python",
   "pygments_lexer": "ipython3",
   "version": "3.12.1"
  }
 },
 "nbformat": 4,
 "nbformat_minor": 2
}
