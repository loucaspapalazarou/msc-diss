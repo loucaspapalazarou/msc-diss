{
 "cells": [
  {
   "cell_type": "code",
   "execution_count": 1,
   "metadata": {},
   "outputs": [],
   "source": [
    "import torch\n",
    "\n",
    "from modules.transformer import TransformerModule\n",
    "from modules.mamba import MambaModule\n",
    "\n",
    "from dataset import FrankaDataModule"
   ]
  },
  {
   "cell_type": "code",
   "execution_count": 2,
   "metadata": {},
   "outputs": [],
   "source": [
    "checkpoint = \"/work/tc064/tc064/s2567498/virtual-sensing/lightning_logs/transformer/version_9/checkpoints/epoch=1-step=787.ckpt\"\n",
    "hparams = \"/work/tc064/tc064/s2567498/virtual-sensing/lightning_logs/transformer/version_9/hparams.yaml\""
   ]
  },
  {
   "cell_type": "code",
   "execution_count": 3,
   "metadata": {},
   "outputs": [],
   "source": [
    "model = TransformerModule.load_from_checkpoint(\n",
    "    checkpoint_path=checkpoint, hparams_file=hparams\n",
    ")"
   ]
  },
  {
   "cell_type": "code",
   "execution_count": 15,
   "metadata": {},
   "outputs": [
    {
     "name": "stdout",
     "output_type": "stream",
     "text": [
      "Using 1048/10488 data episodes. Episode length: 200\n"
     ]
    }
   ],
   "source": [
    "dm = FrankaDataModule(\n",
    "    \"/work/tc064/tc064/s2567498/data-w-camera\",\n",
    "    batch_size=1,\n",
    "    num_workers=0,\n",
    "    data_portion=0.1,\n",
    "    episode_length=200,\n",
    "    use_cpu=True,\n",
    ")\n",
    "dm.setup()\n",
    "data_loader = dm.val_dataloader()"
   ]
  },
  {
   "cell_type": "code",
   "execution_count": 16,
   "metadata": {},
   "outputs": [],
   "source": [
    "# Get the first sample\n",
    "first_batch = next(iter(data_loader))"
   ]
  },
  {
   "cell_type": "code",
   "execution_count": 17,
   "metadata": {},
   "outputs": [
    {
     "name": "stdout",
     "output_type": "stream",
     "text": [
      "torch.Size([1, 200, 80])\n"
     ]
    }
   ],
   "source": [
    "model.eval()  # Set the model to evaluation mode\n",
    "with torch.no_grad():\n",
    "    output = model.predict(first_batch)"
   ]
  }
 ],
 "metadata": {
  "kernelspec": {
   "display_name": "diss",
   "language": "python",
   "name": "python3"
  },
  "language_info": {
   "codemirror_mode": {
    "name": "ipython",
    "version": 3
   },
   "file_extension": ".py",
   "mimetype": "text/x-python",
   "name": "python",
   "nbconvert_exporter": "python",
   "pygments_lexer": "ipython3",
   "version": "3.12.1"
  }
 },
 "nbformat": 4,
 "nbformat_minor": 2
}
