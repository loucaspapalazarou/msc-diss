{
 "cells": [
  {
   "cell_type": "code",
   "execution_count": null,
   "metadata": {},
   "outputs": [],
   "source": [
    "import torch\n",
    "import matplotlib.pyplot as plt\n",
    "\n",
    "from modules.transformer import TransformerModule\n",
    "from modules.mamba import MambaModule\n",
    "\n",
    "from dataset import FrankaDataModule"
   ]
  },
  {
   "cell_type": "code",
   "execution_count": null,
   "metadata": {},
   "outputs": [],
   "source": [
    "checkpoint = \"/work/tc064/tc064/s2567498/virtual-sensing/lightning_logs/transformer/version_11/checkpoints/epoch=0-step=520.ckpt\"\n",
    "hparams = \"/work/tc064/tc064/s2567498/virtual-sensing/lightning_logs/transformer/version_11/hparams.yaml\""
   ]
  },
  {
   "cell_type": "code",
   "execution_count": null,
   "metadata": {},
   "outputs": [],
   "source": [
    "model = TransformerModule.load_from_checkpoint(\n",
    "    checkpoint_path=checkpoint, hparams_file=hparams\n",
    ")\n",
    "model.eval()"
   ]
  },
  {
   "cell_type": "code",
   "execution_count": null,
   "metadata": {},
   "outputs": [],
   "source": [
    "dm = FrankaDataModule(\n",
    "    \"/work/tc064/tc064/s2567498/data-w-camera\",\n",
    "    batch_size=1,\n",
    "    num_workers=0,\n",
    "    data_portion=0.1,\n",
    "    episode_length=200,\n",
    "    use_cpu=True\n",
    ")\n",
    "dm.setup()\n",
    "data_loader = dm.val_dataloader()"
   ]
  },
  {
   "cell_type": "code",
   "execution_count": null,
   "metadata": {},
   "outputs": [],
   "source": [
    "outputs = []\n",
    "targets = []\n",
    "for batch in data_loader:\n",
    "    with torch.no_grad():\n",
    "        target = batch[\"sensor_data\"][0, 10, [7,8,9]]\n",
    "        targets.append(target)\n",
    "        output = model.predict(batch)\n",
    "        outputs.append(output)\n",
    "        print(output, target)"
   ]
  },
  {
   "cell_type": "code",
   "execution_count": null,
   "metadata": {},
   "outputs": [],
   "source": [
    "output_values = [out.numpy().flatten().tolist() for out in outputs]\n",
    "target_values = [tgt.numpy().tolist() for tgt in targets]\n",
    "\n",
    "# Plotting\n",
    "for i in range(len(output_values)):\n",
    "    plt.figure(figsize=(10, 5))\n",
    "    plt.plot(output_values[i], label=\"Output\", marker=\"o\")\n",
    "    plt.plot(target_values[i], label=\"Target\", marker=\"x\")\n",
    "    plt.title(f\"Sensor Outputs vs Targets for Batch {i+1}\")\n",
    "    plt.xlabel(\"Sensor Index\")\n",
    "    plt.ylabel(\"Sensor Value\")\n",
    "    plt.legend()\n",
    "    plt.show()"
   ]
  }
 ],
 "metadata": {
  "kernelspec": {
   "display_name": "diss",
   "language": "python",
   "name": "python3"
  },
  "language_info": {
   "codemirror_mode": {
    "name": "ipython",
    "version": 3
   },
   "file_extension": ".py",
   "mimetype": "text/x-python",
   "name": "python",
   "nbconvert_exporter": "python",
   "pygments_lexer": "ipython3",
   "version": "3.12.1"
  }
 },
 "nbformat": 4,
 "nbformat_minor": 2
}
