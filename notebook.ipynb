{
 "cells": [
  {
   "cell_type": "code",
   "execution_count": 9,
   "metadata": {},
   "outputs": [],
   "source": [
    "import torch\n",
    "\n",
    "filename = \"/mnt/BigHD_1/loucas/data-w-camera/0b375ebf-c2a2-4fcd-9cd2-53008b95cf55.pt\"\n",
    "t = torch.load(filename)"
   ]
  },
  {
   "cell_type": "code",
   "execution_count": 10,
   "metadata": {},
   "outputs": [
    {
     "name": "stdout",
     "output_type": "stream",
     "text": [
      "torch.Size([300, 256, 256, 4])\n"
     ]
    }
   ],
   "source": [
    "front_images = t[\"camera_data\"][:, 0, 0]\n",
    "print(front_images.shape)"
   ]
  },
  {
   "cell_type": "code",
   "execution_count": 12,
   "metadata": {},
   "outputs": [],
   "source": [
    "import os\n",
    "import numpy as np\n",
    "import torchvision\n",
    "from PIL.Image import Image\n",
    "\n",
    "save_dir = \"saved_images\"\n",
    "os.makedirs(save_dir, exist_ok=True)\n",
    "\n",
    "# Iterate through the tensor and save each image\n",
    "for i in range(front_images.shape[0]):\n",
    "    # Convert the tensor to a numpy array and ensure it's in the correct format\n",
    "    image = front_images[i].permute(2, 0, 1)\n",
    "    image:Image  = torchvision.transforms.ToPILImage()(image)\n",
    "    image.save(os.path.join(save_dir, f\"image{i}.png\"))"
   ]
  }
 ],
 "metadata": {
  "kernelspec": {
   "display_name": "diss",
   "language": "python",
   "name": "python3"
  },
  "language_info": {
   "codemirror_mode": {
    "name": "ipython",
    "version": 3
   },
   "file_extension": ".py",
   "mimetype": "text/x-python",
   "name": "python",
   "nbconvert_exporter": "python",
   "pygments_lexer": "ipython3",
   "version": "3.11.9"
  }
 },
 "nbformat": 4,
 "nbformat_minor": 2
}
